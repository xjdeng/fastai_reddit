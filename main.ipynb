{
 "cells": [
  {
   "cell_type": "code",
   "execution_count": 191,
   "metadata": {
    "collapsed": true
   },
   "outputs": [],
   "source": [
    "# Note: you may need to run the following in administrator mode in Windows, esp if you had to install spacy's language models\n",
    "# as admin.  See the README for details.\n",
    "%reload_ext autoreload\n",
    "%autoreload 2\n",
    "%matplotlib inline\n",
    "\n",
    "from fastai.learner import *\n",
    "\n",
    "import torchtext\n",
    "import spacy\n",
    "from torchtext import vocab, data\n",
    "from torchtext.datasets import language_modeling\n",
    "\n",
    "from fastai.rnn_reg import *\n",
    "from fastai.rnn_train import *\n",
    "from fastai.nlp import *\n",
    "from fastai.lm_rnn import *\n",
    "\n",
    "import dill as pickle\n",
    "\n",
    "import praw\n",
    "import re\n",
    "import random\n",
    "import bs4, markdown"
   ]
  },
  {
   "cell_type": "markdown",
   "metadata": {},
   "source": [
    "## Settings"
   ]
  },
  {
   "cell_type": "code",
   "execution_count": 192,
   "metadata": {
    "collapsed": true
   },
   "outputs": [],
   "source": [
    "# You definitely need to change this variable\n",
    "targetuser = \"ryan_holiday\" #User you are targetting, NOT necessarily your username (unless you want to do this on yourself)\n",
    "\n",
    "# You may need to change these variables\n",
    "test_portion = 0.1 #What fraction of the user's posts and submissions to use as the test set?\n",
    "credential_file = \"credentials.key\"\n",
    "bs = 8\n",
    "bptt = 70\n",
    "em_sz = 200  # size of each embedding vector\n",
    "nh = 500     # number of hidden activations per layer\n",
    "nl = 3       # number of layers"
   ]
  },
  {
   "cell_type": "markdown",
   "metadata": {},
   "source": [
    "## Reddit Credentials\n",
    "\n",
    "Make sure you create a [Reddit App](https://www.reddit.com/prefs/apps) named **fastai_reddit** and put the credentials in a file named \"credentials.key\" (or whatever name you picked in the cell above.)\n",
    "\n",
    "Format your \"credentials.key\" file the following way:\n",
    "\n",
    "1st line: PERSONAL USE SCRIPT (14 chars)  \n",
    "2nd line: SECRET (27 chars)  \n",
    "3rd line: REDDIT USERNAME  \n",
    "4th line: REDDIT PASSWORD  \n"
   ]
  },
  {
   "cell_type": "code",
   "execution_count": 193,
   "metadata": {
    "collapsed": true
   },
   "outputs": [],
   "source": [
    "try:\n",
    "    with open(credential_file, 'r') as f:\n",
    "        creds = f.read().split('\\n')\n",
    "    personal = creds[0]\n",
    "    secret = creds[1]\n",
    "    username = creds[2]\n",
    "    password = creds[3]\n",
    "except OSError as e:\n",
    "    print(\"You didn't create a credential file! Please see sample_credentials.key\")\n",
    "    print(\"Then go to http://www.storybench.org/how-to-scrape-reddit-with-python/\")\n",
    "    print(\"And register a new app named fastai_reddit in your reddit account.\")\n",
    "    print(\"And insert the values into sample_credentials.key and save it as {}.\".format(credential_file))\n",
    "    raise(e)"
   ]
  },
  {
   "cell_type": "code",
   "execution_count": 194,
   "metadata": {
    "collapsed": true
   },
   "outputs": [],
   "source": [
    "reddit = praw.Reddit(client_id=personal, client_secret=secret, user_agent='fastai_reddit', username=username, \\\n",
    "                     password=password)\n",
    "user = reddit.redditor(targetuser)"
   ]
  },
  {
   "cell_type": "code",
   "execution_count": 195,
   "metadata": {},
   "outputs": [],
   "source": [
    "def noquotes(text):\n",
    "    \"\"\"\n",
    "This function first stated out as a way to remove markdown quotes from raw reddit markdown text but now it's more of a\n",
    "general purpose text parser, but the name hasn't changed.\n",
    "    \"\"\"\n",
    "    #https://stackoverflow.com/questions/761824/python-how-to-convert-markdown-formatted-text-to-text\n",
    "    html = markdown.markdown(text)\n",
    "    text = ''.join(bs4.BeautifulSoup(html, 'lxml').findAll(text=True))\n",
    "    t1 = re.sub(\">.+?(\\n|$)\",\"\",text).replace(\"\\\\n\",\"\").replace(\"\\\\\",\"\")\n",
    "    return t1"
   ]
  },
  {
   "cell_type": "code",
   "execution_count": 196,
   "metadata": {},
   "outputs": [
    {
     "name": "stdout",
     "output_type": "stream",
     "text": [
      "We need to stop this.\n"
     ]
    }
   ],
   "source": [
    "# Test that our Reddit connection works\n",
    "subreddit = reddit.subreddit('Nootropics')\n",
    "test = list(subreddit.top(limit=10))[0]\n",
    "print(test.title)"
   ]
  },
  {
   "cell_type": "code",
   "execution_count": 197,
   "metadata": {},
   "outputs": [
    {
     "name": "stdout",
     "output_type": "stream",
     "text": [
      "Read it however you like my friend. It's designed to be one page a day (and tied to the day's date) but it will work in just about any form. \n",
      "If you fear getting caught doing something, it's probably a sign you shouldn't be doing it. \n"
     ]
    }
   ],
   "source": [
    "# Test getting the latest 2 comments from the user\n",
    "# See: https://www.reddit.com/r/redditdev/comments/5gt42t/praw_getting_users_last_1000_comments_causing/ \n",
    "for comment in user.comments.new(limit=2):\n",
    "    print(noquotes(comment.body))"
   ]
  },
  {
   "cell_type": "code",
   "execution_count": 198,
   "metadata": {},
   "outputs": [
    {
     "name": "stdout",
     "output_type": "stream",
     "text": [
      "I've just finished reading Thirteen Days as well as a number of interesting articles that attempt to \"correct the record\" about the Cuban Missile Crisis (including this one from The Atlantic). Here is where I am confused. In Thirteen Days, RFK makes the case that Kennedy had never really wanted the Jupiter missiles in Turkey, that he had repeatedly asked for them to be removed, and possibly even thought they already had been. Therefore he was frustrated when Khrushchev demanded their removal because it was clear that the US's hardline position re: Cuba was less compelling with their existence. (Ultimately he ended up trading away their removal).\n",
      "However, in a lot of contrarian histories I've read blame Kennedy for starting the crisis by placing the missiles there in 1961 (even though plans appear to predate his presidency) and more or less put the responsibility on him for pushing the USSR into a position where they needed a check on the US in Cuba. \n",
      "My question for the historians here is who is correct? It appears the missiles were never particularly effective or advanced in the first place, so why did they go up, why were they left and who does the fault lie with?\n",
      "Thank you!\n",
      "I just finished reading Olmstead's A Journey Through Texas, which he wrote while touring the state on horseback from 1856-1857. It's very interesting and surprisingly a good deal of the observations stand true today. The only part I edited out of this section was his comparison of slave prices (which he was not a supporter of):\n",
      "\n",
      "The cost of living at Austin is extraordinarily high. Subjoined is a list of prices of building materials, etc., and of articles of  household use, as sold at retail :     \n",
      "Pine lumber is carted from Bastrop, thirty miles. Boards are  sold at $4.5 to $5 a hundred feet. Brick, poorly made in the  vicinity, are sold at the kilns at $10 per M. The town stands  upon a ledge of very soft limestone, which is worked almost as  easily as wood. It is frequently used for building — I did not learn at what cost.     \n",
      "Rents — very high. A smithy, 30 by 20 feet, of brick, one  story high, rented for $50 a month. A log shanty, the poorest  a mechanic could think of living in, $10 a month.     \n",
      "Rails, for fencing on plantations, $5 per hundred. Iron, bar,  8c. ; nail, 9c. ; shoe, 10c ; cast-steel, 30c ; horse-shoeing, 75c. a  shoe ; charcoal, 25c a bushel ; mineral coal, none to be had ;  wood for fuel, knotty oak, $3 a cord ; washing, $1 per dozen.     \n",
      "There were thousands of cattle pasturing within sight of the  town ; but milk sold by contract, for the season, at 12^c. a quart,  and at retail at 15c. to 20c. Butter — Goshen, 40c. ; country  fresh, 50c.   Flour, $15 a barrel ; bread, of inferior flour, by Qerman bakers,  8c. per lb. ; com, 50c. per bushel ; sweet potatoes, 50c. to 75c.  a bushel ; eggs, 25c. per dozen ; crackers, 15c. per lb. ; sugar,  crushed, 18fc. per lb. ; \" Star\" (New York) candles, 40c per lb. ;  apples, inferior, 75c. per dozen ; beef, fresh, 3 Jc per lb. ; pork,  do., 6c. ; bacon, sides, 18c. ; hams, 20c. to 25c. per lb.     \n",
      "Rope, Manilla half-inch line, 40c. per lb. Harness leather  (such as is bought in New York at 20c.), 40c. per lb.    \n",
      "Freight is wagoned by mules and oxen from both Houston  and Indianola, but principally from the latter place. \n",
      "\n"
     ]
    }
   ],
   "source": [
    "# Test getting the latest 2 submissions from the user\n",
    "# See: https://www.reddit.com/r/redditdev/comments/38wzzm/praw_how_to_get_submission_text/\n",
    "# TODO: write a function to remove quoted text between a \">\" and a new line\n",
    "for sub in user.submissions.new(limit=2):\n",
    "    print(noquotes(sub.selftext))"
   ]
  },
  {
   "cell_type": "code",
   "execution_count": 199,
   "metadata": {
    "collapsed": true
   },
   "outputs": [],
   "source": [
    "text = []\n",
    "for comment in user.comments.new(limit=None):\n",
    "    text.append(noquotes(comment.body))\n"
   ]
  },
  {
   "cell_type": "code",
   "execution_count": 96,
   "metadata": {},
   "outputs": [
    {
     "name": "stdout",
     "output_type": "stream",
     "text": [
      "1000\n"
     ]
    }
   ],
   "source": [
    "print(len(text))"
   ]
  },
  {
   "cell_type": "code",
   "execution_count": 200,
   "metadata": {
    "collapsed": true
   },
   "outputs": [],
   "source": [
    "subs = []\n",
    "for sub in user.submissions.new(limit=None):\n",
    "    newsub = noquotes(sub.selftext)\n",
    "    if len(newsub) > 0:\n",
    "        subs.append(newsub)"
   ]
  },
  {
   "cell_type": "code",
   "execution_count": 98,
   "metadata": {},
   "outputs": [
    {
     "data": {
      "text/plain": [
       "60"
      ]
     },
     "execution_count": 98,
     "metadata": {},
     "output_type": "execute_result"
    }
   ],
   "source": [
    "len(subs)"
   ]
  },
  {
   "cell_type": "markdown",
   "metadata": {},
   "source": [
    "Now randomly join together posts and set aside a fraction of the posts equal to ```test_portion``` to designate as the test set."
   ]
  },
  {
   "cell_type": "code",
   "execution_count": 201,
   "metadata": {
    "collapsed": true
   },
   "outputs": [],
   "source": [
    "alltext = text + subs\n",
    "random.shuffle(alltext)\n",
    "split = round(test_portion*len(alltext))\n",
    "train = pd.DataFrame()\n",
    "test = pd.DataFrame()\n",
    "test['text'] = alltext[0:split]\n",
    "train['text'] = alltext[split:]"
   ]
  },
  {
   "cell_type": "code",
   "execution_count": 100,
   "metadata": {},
   "outputs": [
    {
     "data": {
      "text/html": [
       "<div>\n",
       "<style scoped>\n",
       "    .dataframe tbody tr th:only-of-type {\n",
       "        vertical-align: middle;\n",
       "    }\n",
       "\n",
       "    .dataframe tbody tr th {\n",
       "        vertical-align: top;\n",
       "    }\n",
       "\n",
       "    .dataframe thead th {\n",
       "        text-align: right;\n",
       "    }\n",
       "</style>\n",
       "<table border=\"1\" class=\"dataframe\">\n",
       "  <thead>\n",
       "    <tr style=\"text-align: right;\">\n",
       "      <th></th>\n",
       "      <th>text</th>\n",
       "    </tr>\n",
       "  </thead>\n",
       "  <tbody>\n",
       "    <tr>\n",
       "      <th>0</th>\n",
       "      <td>You've heard of a credit card right?</td>\n",
       "    </tr>\n",
       "    <tr>\n",
       "      <th>1</th>\n",
       "      <td>Any writers here have tattoos of their writing...</td>\n",
       "    </tr>\n",
       "    <tr>\n",
       "      <th>2</th>\n",
       "      <td>Frederick Douglass actually speaks about this ...</td>\n",
       "    </tr>\n",
       "    <tr>\n",
       "      <th>3</th>\n",
       "      <td>Look Gawker has been gone for almost two years...</td>\n",
       "    </tr>\n",
       "    <tr>\n",
       "      <th>4</th>\n",
       "      <td>It's built some of the biggest companies in hi...</td>\n",
       "    </tr>\n",
       "  </tbody>\n",
       "</table>\n",
       "</div>"
      ],
      "text/plain": [
       "                                                text\n",
       "0               You've heard of a credit card right?\n",
       "1  Any writers here have tattoos of their writing...\n",
       "2  Frederick Douglass actually speaks about this ...\n",
       "3  Look Gawker has been gone for almost two years...\n",
       "4  It's built some of the biggest companies in hi..."
      ]
     },
     "execution_count": 100,
     "metadata": {},
     "output_type": "execute_result"
    }
   ],
   "source": [
    "train.head()"
   ]
  },
  {
   "cell_type": "code",
   "execution_count": 101,
   "metadata": {},
   "outputs": [
    {
     "data": {
      "text/html": [
       "<div>\n",
       "<style scoped>\n",
       "    .dataframe tbody tr th:only-of-type {\n",
       "        vertical-align: middle;\n",
       "    }\n",
       "\n",
       "    .dataframe tbody tr th {\n",
       "        vertical-align: top;\n",
       "    }\n",
       "\n",
       "    .dataframe thead th {\n",
       "        text-align: right;\n",
       "    }\n",
       "</style>\n",
       "<table border=\"1\" class=\"dataframe\">\n",
       "  <thead>\n",
       "    <tr style=\"text-align: right;\">\n",
       "      <th></th>\n",
       "      <th>text</th>\n",
       "    </tr>\n",
       "  </thead>\n",
       "  <tbody>\n",
       "    <tr>\n",
       "      <th>0</th>\n",
       "      <td>Fantastic idea.</td>\n",
       "    </tr>\n",
       "    <tr>\n",
       "      <th>1</th>\n",
       "      <td>I mean that writer can fully intend to write a...</td>\n",
       "    </tr>\n",
       "    <tr>\n",
       "      <th>2</th>\n",
       "      <td>Thank you so much</td>\n",
       "    </tr>\n",
       "    <tr>\n",
       "      <th>3</th>\n",
       "      <td>\\nI love Joseph Epstein. He's great.</td>\n",
       "    </tr>\n",
       "    <tr>\n",
       "      <th>4</th>\n",
       "      <td>Well, according to who you ask, Seneca is an i...</td>\n",
       "    </tr>\n",
       "  </tbody>\n",
       "</table>\n",
       "</div>"
      ],
      "text/plain": [
       "                                                text\n",
       "0                                   Fantastic idea. \n",
       "1  I mean that writer can fully intend to write a...\n",
       "2                                  Thank you so much\n",
       "3              \\nI love Joseph Epstein. He's great. \n",
       "4  Well, according to who you ask, Seneca is an i..."
      ]
     },
     "execution_count": 101,
     "metadata": {},
     "output_type": "execute_result"
    }
   ],
   "source": [
    "test.head()"
   ]
  },
  {
   "cell_type": "code",
   "execution_count": 102,
   "metadata": {},
   "outputs": [
    {
     "data": {
      "text/plain": [
       "(954, 106)"
      ]
     },
     "execution_count": 102,
     "metadata": {},
     "output_type": "execute_result"
    }
   ],
   "source": [
    "len(train), len(test)"
   ]
  },
  {
   "cell_type": "code",
   "execution_count": 202,
   "metadata": {
    "collapsed": true
   },
   "outputs": [],
   "source": [
    "TEXTS = data.Field(lower=True, tokenize=\"spacy\")"
   ]
  },
  {
   "cell_type": "code",
   "execution_count": 203,
   "metadata": {
    "collapsed": true
   },
   "outputs": [],
   "source": [
    "#def from_dataframes(cls, path, field, col, train_df, val_df, test_df=None, bs=64, bptt=70, **kwargs):\n",
    "#See: https://github.com/fastai/fastai/blob/master/fastai/nlp.py\n",
    "md = LanguageModelData.from_dataframes(path=\"./\", field=TEXTS, col='text',train_df=train,val_df=test,\\\n",
    "                                       test_df=test,bs=bs, bptt=bptt)"
   ]
  },
  {
   "cell_type": "code",
   "execution_count": 204,
   "metadata": {
    "collapsed": true
   },
   "outputs": [],
   "source": [
    "opt_fn = partial(optim.Adam, betas=(0.7, 0.99))"
   ]
  },
  {
   "cell_type": "markdown",
   "metadata": {},
   "source": [
    "You may need to change the dropouts below if you're overfitting"
   ]
  },
  {
   "cell_type": "code",
   "execution_count": 205,
   "metadata": {
    "collapsed": true
   },
   "outputs": [],
   "source": [
    "learner = md.get_model(opt_fn, em_sz, nh, nl,\n",
    "               dropouti=0.25, dropout=0.25, wdrop=0.5, dropoute=0.25, dropouth=0.125)\n",
    "learner.reg_fn = partial(seq2seq_reg, alpha=2, beta=1)\n",
    "learner.clip=0.3"
   ]
  },
  {
   "cell_type": "code",
   "execution_count": 206,
   "metadata": {},
   "outputs": [
    {
     "data": {
      "application/vnd.jupyter.widget-view+json": {
       "model_id": "7b1dd81beda248e382fa69a47e1b1e3b",
       "version_major": 2,
       "version_minor": 0
      },
      "text/plain": [
       "HBox(children=(IntProgress(value=0, description='Epoch', max=1), HTML(value='')))"
      ]
     },
     "metadata": {},
     "output_type": "display_data"
    },
    {
     "name": "stdout",
     "output_type": "stream",
     "text": [
      "                                                                                                                       \r"
     ]
    }
   ],
   "source": [
    "learner.lr_find()"
   ]
  },
  {
   "cell_type": "code",
   "execution_count": 207,
   "metadata": {},
   "outputs": [
    {
     "data": {
      "image/png": "[encoded data removed]",
      "text/plain": [
       "<Figure size 432x288 with 1 Axes>"
      ]
     },
     "metadata": {},
     "output_type": "display_data"
    }
   ],
   "source": [
    "learner.sched.plot_lr()"
   ]
  },
  {
   "cell_type": "code",
   "execution_count": 208,
   "metadata": {},
   "outputs": [
    {
     "data": {
      "image/png": "[encoded data removed]",
      "text/plain": [
       "<Figure size 432x288 with 1 Axes>"
      ]
     },
     "metadata": {},
     "output_type": "display_data"
    }
   ],
   "source": [
    "learner.sched.plot()"
   ]
  },
  {
   "cell_type": "markdown",
   "metadata": {},
   "source": [
    "Set the learning rate to the largest power of 10 that is less than the rate that gives your lowest \"validation loss\"."
   ]
  },
  {
   "cell_type": "code",
   "execution_count": 209,
   "metadata": {
    "collapsed": true
   },
   "outputs": [],
   "source": [
    "lr = 1e-2"
   ]
  },
  {
   "cell_type": "code",
   "execution_count": 210,
   "metadata": {},
   "outputs": [
    {
     "data": {
      "application/vnd.jupyter.widget-view+json": {
       "model_id": "d0581f2fecc94bfc92f7fb7b42778035",
       "version_major": 2,
       "version_minor": 0
      },
      "text/plain": [
       "HBox(children=(IntProgress(value=0, description='Epoch', max=40), HTML(value='')))"
      ]
     },
     "metadata": {},
     "output_type": "display_data"
    },
    {
     "name": "stdout",
     "output_type": "stream",
     "text": [
      "epoch      trn_loss   val_loss                                                                                         \n",
      "    0      6.476793   6.303481  \n",
      "    1      6.116682   5.88701                                                                                          \n",
      "    2      5.823886   5.737166                                                                                         \n",
      "    3      5.714289   5.678863                                                                                         \n",
      "    4      5.667371   5.646464                                                                                         \n",
      "    5      5.535562   5.577287                                                                                         \n",
      "    6      5.417625   5.494283                                                                                         \n",
      "    7      5.320484   5.435483                                                                                         \n",
      "    8      5.219706   5.45224                                                                                          \n",
      "    9      5.160662   5.428119                                                                                         \n",
      "    10     5.164826   5.389821                                                                                         \n",
      "    11     5.177269   5.373551                                                                                         \n",
      "    12     5.176289   5.347185                                                                                         \n",
      "    13     5.166958   5.446774                                                                                         \n",
      "    14     5.154384   5.405439                                                                                         \n",
      "    15     5.107406   5.417473                                                                                         \n",
      "    16     5.0648     5.361772                                                                                         \n",
      "    17     4.992802   5.403974                                                                                         \n",
      "    18     4.954935   5.353211                                                                                         \n",
      "    19     4.893165   5.367429                                                                                         \n",
      "    20     4.871812   5.361296                                                                                         \n",
      "    21     4.838353   5.376563                                                                                         \n",
      "    22     4.811499   5.319                                                                                            \n",
      "    23     4.780649   5.302598                                                                                         \n",
      "    24     4.738523   5.339507                                                                                         \n",
      "    25     4.723359   5.353315                                                                                         \n",
      "    26     4.646836   5.467718                                                                                         \n",
      "    27     4.638941   5.431681                                                                                         \n",
      "    28     4.636205   5.39732                                                                                          \n",
      "    29     4.619901   5.376536                                                                                         \n",
      "    30     4.54929    5.393746                                                                                         \n",
      "    31     4.562667   5.391887                                                                                         \n",
      "    32     4.526805   5.367697                                                                                         \n",
      "    33     4.517758   5.389489                                                                                         \n",
      "    34     4.539614   5.370002                                                                                         \n",
      "    35     4.530971   5.392561                                                                                         \n",
      "    36     4.553676   5.369091                                                                                         \n",
      "    37     4.588337   5.378482                                                                                         \n",
      "    38     4.563022   5.395271                                                                                         \n",
      "    39     4.579952   5.38463                                                                                          \n"
     ]
    },
    {
     "data": {
      "text/plain": [
       "[array([5.38463])]"
      ]
     },
     "execution_count": 210,
     "metadata": {},
     "output_type": "execute_result"
    }
   ],
   "source": [
    "learner.fit(lr, 4, wds=1e-6, cycle_len=1, cycle_mult=3)\n",
    "#Note: if you get an error, try reducing the batch size!\n",
    "#Feel free to terminate training prematurely if val_loss isn't improving"
   ]
  },
  {
   "cell_type": "code",
   "execution_count": 211,
   "metadata": {},
   "outputs": [],
   "source": [
    "learner.save_encoder('adam1_enc')\n",
    "learner.load_encoder('adam1_enc')"
   ]
  },
  {
   "cell_type": "code",
   "execution_count": 212,
   "metadata": {},
   "outputs": [
    {
     "data": {
      "application/vnd.jupyter.widget-view+json": {
       "model_id": "ec6ee2fe19ce46dfbc7e16c258c45e1d",
       "version_major": 2,
       "version_minor": 0
      },
      "text/plain": [
       "HBox(children=(IntProgress(value=0, description='Epoch', max=20), HTML(value='')))"
      ]
     },
     "metadata": {},
     "output_type": "display_data"
    },
    {
     "name": "stdout",
     "output_type": "stream",
     "text": [
      "epoch      trn_loss   val_loss                                                                                         \n",
      "    0      4.56414    5.365735  \n",
      "    1      4.709426   5.295075                                                                                         \n",
      "    2      4.691909   5.392634                                                                                         \n",
      "    3      4.656178   5.475455                                                                                         \n",
      "    4      4.656554   5.382054                                                                                         \n",
      "    5      4.582662   5.44813                                                                                          \n",
      "    6      4.527119   5.43926                                                                                          \n",
      "    7      4.496453   5.463637                                                                                         \n",
      "    8      4.492833   5.483939                                                                                         \n",
      "    9      4.468114   5.394845                                                                                         \n",
      "    10     4.414901   5.418518                                                                                         \n",
      "    11     4.377813   5.451247                                                                                         \n",
      "    12     4.337336   5.450071                                                                                         \n",
      "    13     4.353115   5.418784                                                                                         \n",
      "    14     4.300726   5.441372                                                                                         \n",
      "    15     4.307847   5.413685                                                                                         \n",
      "    16     4.322784   5.445968                                                                                         \n",
      "    17     4.331833   5.43844                                                                                          \n",
      "    18     4.372054   5.432249                                                                                         \n",
      "    19     4.425901   5.43082                                                                                          \n"
     ]
    },
    {
     "data": {
      "text/plain": [
       "[array([5.43082])]"
      ]
     },
     "execution_count": 212,
     "metadata": {},
     "output_type": "execute_result"
    }
   ],
   "source": [
    "learner.fit(lr, 1, wds=1e-6, cycle_len=20)\n",
    "#Feel free to terminate training prematurely if val_loss isn't improving"
   ]
  },
  {
   "cell_type": "markdown",
   "metadata": {},
   "source": [
    "## Set your \"seed string\" below\n",
    "(Or leave it as the default if you want it to pick a random post from your test set.)"
   ]
  },
  {
   "cell_type": "code",
   "execution_count": null,
   "metadata": {
    "collapsed": true
   },
   "outputs": [],
   "source": [
    "ss = random.choice(test['text'])\n",
    "#ss=\"\"\"The right way \"\"\""
   ]
  },
  {
   "cell_type": "code",
   "execution_count": 216,
   "metadata": {},
   "outputs": [],
   "source": [
    "#Testing\n",
    "spacy_tok = spacy.load('en')\n",
    "m=learner.model\n",
    "s = [spacy_tok(ss)]\n",
    "t=TEXTS.numericalize(s)\n",
    "' '.join(str(s[0]))\n",
    "# Set batch size to 1\n",
    "m[0].bs=1\n",
    "# Turn off dropout\n",
    "m.eval()\n",
    "# Reset hidden state\n",
    "m.reset()\n",
    "# Get predictions from model\n",
    "res,*_ = m(t)\n",
    "# Put the batch size back to what it was\n",
    "m[0].bs=bs"
   ]
  },
  {
   "cell_type": "code",
   "execution_count": 214,
   "metadata": {},
   "outputs": [
    {
     "data": {
      "text/plain": [
       "['or', ';', '(', 'and', 'by', '\\n', 'as', '—', 'in', 'with']"
      ]
     },
     "execution_count": 214,
     "metadata": {},
     "output_type": "execute_result"
    }
   ],
   "source": [
    "nexts = torch.topk(res[-1], 10)[1]\n",
    "[TEXTS.vocab.itos[o] for o in to_np(nexts)]"
   ]
  },
  {
   "cell_type": "code",
   "execution_count": 217,
   "metadata": {},
   "outputs": [
    {
     "name": "stdout",
     "output_type": "stream",
     "text": [
      "Me as well. Not only that, it's much much more expensive than what people pay in the city for much much worse service. I think we're at $120 a month for average speeds of 6mbps \n",
      "\n",
      "as a result .   < eos > i 'm not sure that 's a good thing .   < eos > i 'm not sure that 's a good thing .   < eos > i 'm not sure that 's a good thing .   < eos > ...\n"
     ]
    }
   ],
   "source": [
    "print(ss,\"\\n\")\n",
    "for i in range(50):\n",
    "    n=res[-1].topk(2)[1]\n",
    "    n = n[1] if n.data[0]==0 else n[0]\n",
    "    print(TEXTS.vocab.itos[n.data[0]], end=' ')\n",
    "    res,*_ = m(n[0].unsqueeze(0))\n",
    "print('...')"
   ]
  },
  {
   "cell_type": "code",
   "execution_count": null,
   "metadata": {
    "collapsed": true
   },
   "outputs": [],
   "source": []
  }
 ],
 "metadata": {
  "kernelspec": {
   "display_name": "fastAI custom",
   "language": "python",
   "name": "fastai"
  },
  "language_info": {
   "codemirror_mode": {
    "name": "ipython",
    "version": 3
   },
   "file_extension": ".py",
   "mimetype": "text/x-python",
   "name": "python",
   "nbconvert_exporter": "python",
   "pygments_lexer": "ipython3",
   "version": "3.6.5"
  }
 },
 "nbformat": 4,
 "nbformat_minor": 2
}
