{
 "cells": [
  {
   "cell_type": "code",
   "execution_count": 56,
   "metadata": {
    "collapsed": true
   },
   "outputs": [],
   "source": [
    "# Note: you may need to run the following in administrator mode in Windows, esp if you had to install spacy's language models\n",
    "# as admin.  See the README for details.\n",
    "%reload_ext autoreload\n",
    "%autoreload 2\n",
    "%matplotlib inline\n",
    "\n",
    "from fastai.learner import *\n",
    "\n",
    "import torchtext\n",
    "import spacy\n",
    "from torchtext import vocab, data\n",
    "from torchtext.datasets import language_modeling\n",
    "\n",
    "from fastai.rnn_reg import *\n",
    "from fastai.rnn_train import *\n",
    "from fastai.nlp import *\n",
    "from fastai.lm_rnn import *\n",
    "\n",
    "import dill as pickle\n",
    "\n",
    "import praw\n",
    "import re\n",
    "import random\n",
    "import bs4, markdown"
   ]
  },
  {
   "cell_type": "code",
   "execution_count": 30,
   "metadata": {
    "collapsed": true
   },
   "outputs": [],
   "source": [
    "# Initialize key variables here\n",
    "credential_file = \"credentials.key\"\n",
    "targetuser = \"ryan_holiday\" #User you are targetting, NOT necessarily your username (unless you want to do this on yourself)\n",
    "test_portion = 0.1 #What fraction of the user's posts and submissions to use as the test set?\n",
    "bs = 4\n",
    "bptt = 70\n",
    "em_sz = 200  # size of each embedding vector\n",
    "nh = 500     # number of hidden activations per layer\n",
    "nl = 3       # number of layers"
   ]
  },
  {
   "cell_type": "code",
   "execution_count": 3,
   "metadata": {
    "collapsed": true
   },
   "outputs": [],
   "source": [
    "try:\n",
    "    with open(credential_file, 'r') as f:\n",
    "        creds = f.read().split('\\n')\n",
    "    personal = creds[0]\n",
    "    secret = creds[1]\n",
    "    username = creds[2]\n",
    "    password = creds[3]\n",
    "except OSError as e:\n",
    "    print(\"You didn't create a credential file! Please see sample_credentials.key\")\n",
    "    print(\"Then go to http://www.storybench.org/how-to-scrape-reddit-with-python/\")\n",
    "    print(\"And register a new app named fastai_reddit in your reddit account.\")\n",
    "    print(\"And insert the values into sample_credentials.key and save it as {}.\".format(credential_file))\n",
    "    raise(e)"
   ]
  },
  {
   "cell_type": "code",
   "execution_count": 66,
   "metadata": {
    "collapsed": true
   },
   "outputs": [],
   "source": [
    "reddit = praw.Reddit(client_id=personal, client_secret=secret, user_agent='fastai_reddit', username=username, \\\n",
    "                     password=password)\n",
    "user = reddit.redditor(targetuser)"
   ]
  },
  {
   "cell_type": "code",
   "execution_count": 65,
   "metadata": {},
   "outputs": [],
   "source": [
    "def noquotes(text):\n",
    "    \"\"\"\n",
    "This function first stated out as a way to remove markdown quotes from raw reddit markdown text but now it's more of a\n",
    "general purpose text parser, but the name hasn't changed.\n",
    "    \"\"\"\n",
    "    #https://stackoverflow.com/questions/761824/python-how-to-convert-markdown-formatted-text-to-text\n",
    "    html = markdown.markdown(text)\n",
    "    text = ''.join(bs4.BeautifulSoup(html, 'lxml').findAll(text=True))\n",
    "    t1 = re.sub(\">.+?(\\n|$)\",\"\",text).replace(\"\\\\n\",\"\").replace(\"\\\\\",\"\")\n",
    "    return t1"
   ]
  },
  {
   "cell_type": "code",
   "execution_count": 8,
   "metadata": {},
   "outputs": [
    {
     "name": "stdout",
     "output_type": "stream",
     "text": [
      "We need to stop this.\n"
     ]
    }
   ],
   "source": [
    "# Test that our Reddit connection works\n",
    "subreddit = reddit.subreddit('Nootropics')\n",
    "test = list(subreddit.top(limit=10))[0]\n",
    "print(test.title)"
   ]
  },
  {
   "cell_type": "code",
   "execution_count": 67,
   "metadata": {},
   "outputs": [
    {
     "name": "stdout",
     "output_type": "stream",
     "text": [
      "Read it however you like my friend. It's designed to be one page a day (and tied to the day's date) but it will work in just about any form. \n",
      "If you fear getting caught doing something, it's probably a sign you shouldn't be doing it. \n"
     ]
    }
   ],
   "source": [
    "# Test getting the latest 2 comments from the user\n",
    "# See: https://www.reddit.com/r/redditdev/comments/5gt42t/praw_getting_users_last_1000_comments_causing/ \n",
    "for comment in user.comments.new(limit=2):\n",
    "    print(noquotes(comment.body))"
   ]
  },
  {
   "cell_type": "code",
   "execution_count": 68,
   "metadata": {},
   "outputs": [
    {
     "name": "stdout",
     "output_type": "stream",
     "text": [
      "I've just finished reading Thirteen Days as well as a number of interesting articles that attempt to \"correct the record\" about the Cuban Missile Crisis (including this one from The Atlantic). Here is where I am confused. In Thirteen Days, RFK makes the case that Kennedy had never really wanted the Jupiter missiles in Turkey, that he had repeatedly asked for them to be removed, and possibly even thought they already had been. Therefore he was frustrated when Khrushchev demanded their removal because it was clear that the US's hardline position re: Cuba was less compelling with their existence. (Ultimately he ended up trading away their removal).\n",
      "However, in a lot of contrarian histories I've read blame Kennedy for starting the crisis by placing the missiles there in 1961 (even though plans appear to predate his presidency) and more or less put the responsibility on him for pushing the USSR into a position where they needed a check on the US in Cuba. \n",
      "My question for the historians here is who is correct? It appears the missiles were never particularly effective or advanced in the first place, so why did they go up, why were they left and who does the fault lie with?\n",
      "Thank you!\n",
      "I just finished reading Olmstead's A Journey Through Texas, which he wrote while touring the state on horseback from 1856-1857. It's very interesting and surprisingly a good deal of the observations stand true today. The only part I edited out of this section was his comparison of slave prices (which he was not a supporter of):\n",
      "\n",
      "The cost of living at Austin is extraordinarily high. Subjoined is a list of prices of building materials, etc., and of articles of  household use, as sold at retail :     \n",
      "Pine lumber is carted from Bastrop, thirty miles. Boards are  sold at $4.5 to $5 a hundred feet. Brick, poorly made in the  vicinity, are sold at the kilns at $10 per M. The town stands  upon a ledge of very soft limestone, which is worked almost as  easily as wood. It is frequently used for building — I did not learn at what cost.     \n",
      "Rents — very high. A smithy, 30 by 20 feet, of brick, one  story high, rented for $50 a month. A log shanty, the poorest  a mechanic could think of living in, $10 a month.     \n",
      "Rails, for fencing on plantations, $5 per hundred. Iron, bar,  8c. ; nail, 9c. ; shoe, 10c ; cast-steel, 30c ; horse-shoeing, 75c. a  shoe ; charcoal, 25c a bushel ; mineral coal, none to be had ;  wood for fuel, knotty oak, $3 a cord ; washing, $1 per dozen.     \n",
      "There were thousands of cattle pasturing within sight of the  town ; but milk sold by contract, for the season, at 12^c. a quart,  and at retail at 15c. to 20c. Butter — Goshen, 40c. ; country  fresh, 50c.   Flour, $15 a barrel ; bread, of inferior flour, by Qerman bakers,  8c. per lb. ; com, 50c. per bushel ; sweet potatoes, 50c. to 75c.  a bushel ; eggs, 25c. per dozen ; crackers, 15c. per lb. ; sugar,  crushed, 18fc. per lb. ; \" Star\" (New York) candles, 40c per lb. ;  apples, inferior, 75c. per dozen ; beef, fresh, 3 Jc per lb. ; pork,  do., 6c. ; bacon, sides, 18c. ; hams, 20c. to 25c. per lb.     \n",
      "Rope, Manilla half-inch line, 40c. per lb. Harness leather  (such as is bought in New York at 20c.), 40c. per lb.    \n",
      "Freight is wagoned by mules and oxen from both Houston  and Indianola, but principally from the latter place. \n",
      "\n"
     ]
    }
   ],
   "source": [
    "# Test getting the latest 2 submissions from the user\n",
    "# See: https://www.reddit.com/r/redditdev/comments/38wzzm/praw_how_to_get_submission_text/\n",
    "# TODO: write a function to remove quoted text between a \">\" and a new line\n",
    "for sub in user.submissions.new(limit=2):\n",
    "    print(noquotes(sub.selftext))"
   ]
  },
  {
   "cell_type": "code",
   "execution_count": 69,
   "metadata": {
    "collapsed": true
   },
   "outputs": [],
   "source": [
    "text = []\n",
    "for comment in user.comments.new(limit=None):\n",
    "    text.append(noquotes(comment.body))\n"
   ]
  },
  {
   "cell_type": "code",
   "execution_count": 96,
   "metadata": {},
   "outputs": [
    {
     "name": "stdout",
     "output_type": "stream",
     "text": [
      "1000\n"
     ]
    }
   ],
   "source": [
    "print(len(text))"
   ]
  },
  {
   "cell_type": "code",
   "execution_count": 36,
   "metadata": {
    "collapsed": true
   },
   "outputs": [],
   "source": [
    "subs = []\n",
    "for sub in user.submissions.new(limit=None):\n",
    "    newsub = noquotes(sub.selftext)\n",
    "    if len(newsub) > 0:\n",
    "        subs.append(newsub)"
   ]
  },
  {
   "cell_type": "code",
   "execution_count": 98,
   "metadata": {},
   "outputs": [
    {
     "data": {
      "text/plain": [
       "60"
      ]
     },
     "execution_count": 98,
     "metadata": {},
     "output_type": "execute_result"
    }
   ],
   "source": [
    "len(subs)"
   ]
  },
  {
   "cell_type": "code",
   "execution_count": 37,
   "metadata": {
    "collapsed": true
   },
   "outputs": [],
   "source": [
    "alltext = text + subs\n",
    "random.shuffle(alltext)\n",
    "split = round(test_portion*len(alltext))\n",
    "train = pd.DataFrame()\n",
    "test = pd.DataFrame()\n",
    "test['text'] = alltext[0:split]\n",
    "train['text'] = alltext[split:]"
   ]
  },
  {
   "cell_type": "code",
   "execution_count": 100,
   "metadata": {},
   "outputs": [
    {
     "data": {
      "text/html": [
       "<div>\n",
       "<style scoped>\n",
       "    .dataframe tbody tr th:only-of-type {\n",
       "        vertical-align: middle;\n",
       "    }\n",
       "\n",
       "    .dataframe tbody tr th {\n",
       "        vertical-align: top;\n",
       "    }\n",
       "\n",
       "    .dataframe thead th {\n",
       "        text-align: right;\n",
       "    }\n",
       "</style>\n",
       "<table border=\"1\" class=\"dataframe\">\n",
       "  <thead>\n",
       "    <tr style=\"text-align: right;\">\n",
       "      <th></th>\n",
       "      <th>text</th>\n",
       "    </tr>\n",
       "  </thead>\n",
       "  <tbody>\n",
       "    <tr>\n",
       "      <th>0</th>\n",
       "      <td>You've heard of a credit card right?</td>\n",
       "    </tr>\n",
       "    <tr>\n",
       "      <th>1</th>\n",
       "      <td>Any writers here have tattoos of their writing...</td>\n",
       "    </tr>\n",
       "    <tr>\n",
       "      <th>2</th>\n",
       "      <td>Frederick Douglass actually speaks about this ...</td>\n",
       "    </tr>\n",
       "    <tr>\n",
       "      <th>3</th>\n",
       "      <td>Look Gawker has been gone for almost two years...</td>\n",
       "    </tr>\n",
       "    <tr>\n",
       "      <th>4</th>\n",
       "      <td>It's built some of the biggest companies in hi...</td>\n",
       "    </tr>\n",
       "  </tbody>\n",
       "</table>\n",
       "</div>"
      ],
      "text/plain": [
       "                                                text\n",
       "0               You've heard of a credit card right?\n",
       "1  Any writers here have tattoos of their writing...\n",
       "2  Frederick Douglass actually speaks about this ...\n",
       "3  Look Gawker has been gone for almost two years...\n",
       "4  It's built some of the biggest companies in hi..."
      ]
     },
     "execution_count": 100,
     "metadata": {},
     "output_type": "execute_result"
    }
   ],
   "source": [
    "train.head()"
   ]
  },
  {
   "cell_type": "code",
   "execution_count": 101,
   "metadata": {},
   "outputs": [
    {
     "data": {
      "text/html": [
       "<div>\n",
       "<style scoped>\n",
       "    .dataframe tbody tr th:only-of-type {\n",
       "        vertical-align: middle;\n",
       "    }\n",
       "\n",
       "    .dataframe tbody tr th {\n",
       "        vertical-align: top;\n",
       "    }\n",
       "\n",
       "    .dataframe thead th {\n",
       "        text-align: right;\n",
       "    }\n",
       "</style>\n",
       "<table border=\"1\" class=\"dataframe\">\n",
       "  <thead>\n",
       "    <tr style=\"text-align: right;\">\n",
       "      <th></th>\n",
       "      <th>text</th>\n",
       "    </tr>\n",
       "  </thead>\n",
       "  <tbody>\n",
       "    <tr>\n",
       "      <th>0</th>\n",
       "      <td>Fantastic idea.</td>\n",
       "    </tr>\n",
       "    <tr>\n",
       "      <th>1</th>\n",
       "      <td>I mean that writer can fully intend to write a...</td>\n",
       "    </tr>\n",
       "    <tr>\n",
       "      <th>2</th>\n",
       "      <td>Thank you so much</td>\n",
       "    </tr>\n",
       "    <tr>\n",
       "      <th>3</th>\n",
       "      <td>\\nI love Joseph Epstein. He's great.</td>\n",
       "    </tr>\n",
       "    <tr>\n",
       "      <th>4</th>\n",
       "      <td>Well, according to who you ask, Seneca is an i...</td>\n",
       "    </tr>\n",
       "  </tbody>\n",
       "</table>\n",
       "</div>"
      ],
      "text/plain": [
       "                                                text\n",
       "0                                   Fantastic idea. \n",
       "1  I mean that writer can fully intend to write a...\n",
       "2                                  Thank you so much\n",
       "3              \\nI love Joseph Epstein. He's great. \n",
       "4  Well, according to who you ask, Seneca is an i..."
      ]
     },
     "execution_count": 101,
     "metadata": {},
     "output_type": "execute_result"
    }
   ],
   "source": [
    "test.head()"
   ]
  },
  {
   "cell_type": "code",
   "execution_count": 102,
   "metadata": {},
   "outputs": [
    {
     "data": {
      "text/plain": [
       "(954, 106)"
      ]
     },
     "execution_count": 102,
     "metadata": {},
     "output_type": "execute_result"
    }
   ],
   "source": [
    "len(train), len(test)"
   ]
  },
  {
   "cell_type": "code",
   "execution_count": 38,
   "metadata": {
    "collapsed": true
   },
   "outputs": [],
   "source": [
    "TEXTS = data.Field(lower=True, tokenize=\"spacy\")"
   ]
  },
  {
   "cell_type": "code",
   "execution_count": 39,
   "metadata": {
    "collapsed": true
   },
   "outputs": [],
   "source": [
    "#def from_dataframes(cls, path, field, col, train_df, val_df, test_df=None, bs=64, bptt=70, **kwargs):\n",
    "#See: https://github.com/fastai/fastai/blob/master/fastai/nlp.py\n",
    "md = LanguageModelData.from_dataframes(path=\"./\", field=TEXTS, col='text',train_df=train,val_df=test,\\\n",
    "                                       test_df=test,bs=bs, bptt=bptt)"
   ]
  },
  {
   "cell_type": "code",
   "execution_count": 40,
   "metadata": {
    "collapsed": true
   },
   "outputs": [],
   "source": [
    "opt_fn = partial(optim.Adam, betas=(0.7, 0.99))"
   ]
  },
  {
   "cell_type": "code",
   "execution_count": 41,
   "metadata": {
    "collapsed": true
   },
   "outputs": [],
   "source": [
    "learner = md.get_model(opt_fn, em_sz, nh, nl,\n",
    "               dropouti=0.05, dropout=0.05, wdrop=0.1, dropoute=0.02, dropouth=0.05)\n",
    "learner.reg_fn = partial(seq2seq_reg, alpha=2, beta=1)\n",
    "learner.clip=0.3"
   ]
  },
  {
   "cell_type": "code",
   "execution_count": 42,
   "metadata": {},
   "outputs": [
    {
     "data": {
      "application/vnd.jupyter.widget-view+json": {
       "model_id": "5eff73d95b4e4143a244a02b14c821ea",
       "version_major": 2,
       "version_minor": 0
      },
      "text/plain": [
       "HBox(children=(IntProgress(value=0, description='Epoch', max=15), HTML(value='')))"
      ]
     },
     "metadata": {},
     "output_type": "display_data"
    },
    {
     "name": "stdout",
     "output_type": "stream",
     "text": [
      "epoch      trn_loss   val_loss                                                                                         \n",
      "    0      5.996174   5.938563  \n",
      "    1      5.55914    5.688078                                                                                         \n",
      "    2      5.25266    5.615732                                                                                         \n",
      "    3      5.221124   5.525689                                                                                         \n",
      "    4      4.948561   5.483106                                                                                         \n",
      "    5      4.725575   5.476916                                                                                         \n",
      "    6      4.595641   5.50898                                                                                          \n",
      "    7      4.736623   5.404658                                                                                         \n",
      "    8      4.511699   5.474466                                                                                         \n",
      "    9      4.239709   5.481858                                                                                         \n",
      "    10     3.940108   5.509922                                                                                         \n",
      "    11     3.676819   5.542818                                                                                         \n",
      "    12     3.47275    5.591997                                                                                         \n",
      "    13     3.407762   5.580837                                                                                         \n",
      "    14     3.43159    5.597272                                                                                         \n",
      "\n"
     ]
    },
    {
     "data": {
      "text/plain": [
       "[array([5.59727])]"
      ]
     },
     "execution_count": 42,
     "metadata": {},
     "output_type": "execute_result"
    }
   ],
   "source": [
    "learner.fit(3e-3, 4, wds=1e-6, cycle_len=1, cycle_mult=2)"
   ]
  },
  {
   "cell_type": "code",
   "execution_count": null,
   "metadata": {
    "collapsed": true
   },
   "outputs": [],
   "source": []
  }
 ],
 "metadata": {
  "kernelspec": {
   "display_name": "fastAI custom",
   "language": "python",
   "name": "fastai"
  },
  "language_info": {
   "codemirror_mode": {
    "name": "ipython",
    "version": 3
   },
   "file_extension": ".py",
   "mimetype": "text/x-python",
   "name": "python",
   "nbconvert_exporter": "python",
   "pygments_lexer": "ipython3",
   "version": "3.6.5"
  }
 },
 "nbformat": 4,
 "nbformat_minor": 2
}
