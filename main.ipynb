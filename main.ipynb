{
 "cells": [
  {
   "cell_type": "code",
   "execution_count": 1,
   "metadata": {},
   "outputs": [],
   "source": [
    "# Note: you may need to run the following in administrator mode in Windows, esp if you had to install spacy's language models\n",
    "# as admin.  See the README for details.\n",
    "%reload_ext autoreload\n",
    "%autoreload 2\n",
    "%matplotlib inline\n",
    "\n",
    "from fastai.learner import *\n",
    "\n",
    "import torchtext\n",
    "import spacy\n",
    "from torchtext import vocab, data\n",
    "from torchtext.datasets import language_modeling\n",
    "\n",
    "from fastai.rnn_reg import *\n",
    "from fastai.rnn_train import *\n",
    "from fastai.nlp import *\n",
    "from fastai.lm_rnn import *\n",
    "\n",
    "import dill as pickle\n",
    "\n",
    "import praw"
   ]
  },
  {
   "cell_type": "code",
   "execution_count": 17,
   "metadata": {},
   "outputs": [],
   "source": [
    "# Initialize key variables here\n",
    "credential_file = \"credentials.key\"\n",
    "username = \"ryan_holiday\" #User you are targetting, NOT necessarily your username (unless you want to do this on yourself)"
   ]
  },
  {
   "cell_type": "code",
   "execution_count": 7,
   "metadata": {},
   "outputs": [],
   "source": [
    "with open(credential_file, 'r') as f:\n",
    "    creds = f.read().split('\\n')\n",
    "personal = creds[0]\n",
    "secret = creds[1]\n",
    "username = creds[2]\n",
    "password = creds[3]"
   ]
  },
  {
   "cell_type": "code",
   "execution_count": 8,
   "metadata": {},
   "outputs": [],
   "source": [
    "reddit = praw.Reddit(client_id=personal, client_secret=secret, user_agent='fastai_reddit', username=username, \\\n",
    "                     password=password)"
   ]
  },
  {
   "cell_type": "code",
   "execution_count": 15,
   "metadata": {},
   "outputs": [
    {
     "name": "stdout",
     "output_type": "stream",
     "text": [
      "We need to stop this.\n"
     ]
    }
   ],
   "source": [
    "# Test that our Reddit connection works\n",
    "subreddit = reddit.subreddit('Nootropics')\n",
    "test = list(subreddit.top(limit=10))[0]\n",
    "print(test.title)"
   ]
  },
  {
   "cell_type": "code",
   "execution_count": 19,
   "metadata": {},
   "outputs": [
    {
     "name": "stdout",
     "output_type": "stream",
     "text": [
      "Read it however you like my friend. It's designed to be one page a day (and tied to the day's date) but it will work in just about any form. \n",
      "If you fear getting caught doing something, it's probably a sign you shouldn't be doing it. \n"
     ]
    }
   ],
   "source": [
    "# Test getting the latest 2 comments from the user\n",
    "# See: https://www.reddit.com/r/redditdev/comments/5gt42t/praw_getting_users_last_1000_comments_causing/ \n",
    "user = reddit.redditor(username)\n",
    "for comment in user.comments.new(limit=2):\n",
    "    print(comment.body)"
   ]
  },
  {
   "cell_type": "code",
   "execution_count": 26,
   "metadata": {},
   "outputs": [
    {
     "name": "stdout",
     "output_type": "stream",
     "text": [
      "I've just finished reading Thirteen Days as well as a number of interesting articles that attempt to \"correct the record\" about the Cuban Missile Crisis (including [this one from The Atlantic](https://www.theatlantic.com/magazine/archive/2013/01/the-real-cuban-missile-crisis/309190/?single_page=true)). Here is where I am confused. In Thirteen Days, RFK makes the case that Kennedy had never really wanted the Jupiter missiles in Turkey, that he had repeatedly asked for them to be removed, and possibly even thought they already had been. Therefore he was frustrated when Khrushchev demanded their removal because it was clear that the US's hardline position re: Cuba was less compelling with their existence. (Ultimately he ended up trading away their removal).\n",
      "\n",
      "However, in a lot of contrarian histories I've read blame Kennedy for starting the crisis by placing the missiles there in 1961 (even though plans appear to predate his presidency) and more or less put the responsibility on him for pushing the USSR into a position where they needed a check on the US in Cuba. \n",
      "\n",
      "My question for the historians here is who is correct? It appears the missiles were never particularly effective or advanced in the first place, so why did they go up, why were they left and who does the fault lie with?\n",
      "\n",
      "Thank you!\n",
      "I just finished reading Olmstead's [*A Journey Through Texas*](http://www.nebraskapress.unl.edu/bison-books/9780803286207/)*,* which he wrote while touring the state on horseback from 1856\\-1857. It's very interesting and surprisingly a good deal of the observations stand true today. The only part I edited out of this section was his comparison of slave prices \\(which he was not a supporter of\\):\n",
      "\n",
      ">The cost of living at Austin is extraordinarily high. Subjoined is a list of prices of building materials, etc., and of articles of  household use, as sold at retail :     \n",
      ">  \n",
      ">Pine lumber is carted from Bastrop, thirty miles. Boards are  sold at $4.5 to $5 a hundred feet. Brick, poorly made in the  vicinity, are sold at the kilns at $10 per M. The town stands  upon a ledge of very soft limestone, which is worked almost as  easily as wood. It is frequently used for building — I did not learn at what cost.     \n",
      ">  \n",
      ">Rents — very high. A smithy, 30 by 20 feet, of brick, one  story high, rented for $50 a month. A log shanty, the poorest  a mechanic could think of living in, $10 a month.     \n",
      ">  \n",
      ">Rails, for fencing on plantations, $5 per hundred. Iron, bar,  8c. ; nail, 9c. ; shoe, 10c ; cast\\-steel, 30c ; horse\\-shoeing, 75c. a  shoe ; charcoal, 25c a bushel ; mineral coal, none to be had ;  wood for fuel, knotty oak, $3 a cord ; washing, $1 per dozen.     \n",
      ">  \n",
      ">There were thousands of cattle pasturing within sight of the  town ; but milk sold by contract, for the season, at 12\\^c. a quart,  and at retail at 15c. to 20c. Butter — Goshen, 40c. ; country  fresh, 50c.   Flour, $15 a barrel ; bread, of inferior flour, by Qerman bakers,  8c. per lb. ; com, 50c. per bushel ; sweet potatoes, 50c. to 75c.  a bushel ; eggs, 25c. per dozen ; crackers, 15c. per lb. ; sugar,  crushed, 18fc. per lb. ; \" Star\" \\(New York\\) candles, 40c per lb. ;  apples, inferior, 75c. per dozen ; beef, fresh, 3 Jc per lb. ; pork,  do., 6c. ; bacon, sides, 18c. ; hams, 20c. to 25c. per lb.     \n",
      ">  \n",
      ">Rope, Manilla half\\-inch line, 40c. per lb. Harness leather  \\(such as is bought in New York at 20c.\\), 40c. per lb.    \n",
      ">  \n",
      "> Freight is wagoned by mules and oxen from both Houston  and Indianola, but principally from the latter place. \n"
     ]
    }
   ],
   "source": [
    "# Test getting the latest 2 submissions from the user\n",
    "# See: https://www.reddit.com/r/redditdev/comments/38wzzm/praw_how_to_get_submission_text/\n",
    "# TODO: write a function to remove quoted text between a \">\" and a new line\n",
    "for sub in user.submissions.new(limit=2):\n",
    "    print(sub.selftext)"
   ]
  },
  {
   "cell_type": "code",
   "execution_count": null,
   "metadata": {},
   "outputs": [],
   "source": []
  }
 ],
 "metadata": {
  "kernelspec": {
   "display_name": "fastAI custom",
   "language": "python",
   "name": "fastai"
  },
  "language_info": {
   "codemirror_mode": {
    "name": "ipython",
    "version": 3
   },
   "file_extension": ".py",
   "mimetype": "text/x-python",
   "name": "python",
   "nbconvert_exporter": "python",
   "pygments_lexer": "ipython3",
   "version": "3.6.4"
  }
 },
 "nbformat": 4,
 "nbformat_minor": 2
}
