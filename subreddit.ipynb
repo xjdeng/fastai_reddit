{
 "cells": [
  {
   "cell_type": "code",
   "execution_count": 2,
   "metadata": {
    "collapsed": true
   },
   "outputs": [],
   "source": [
    "# Note: you may need to run the following in administrator mode in Windows, esp if you had to install spacy's language models\n",
    "# as admin.  See the README for details.\n",
    "%reload_ext autoreload\n",
    "%autoreload 2\n",
    "%matplotlib inline\n",
    "\n",
    "from fastai.learner import *\n",
    "\n",
    "import torchtext\n",
    "import spacy\n",
    "from torchtext import vocab, data\n",
    "from torchtext.datasets import language_modeling\n",
    "\n",
    "from fastai.rnn_reg import *\n",
    "from fastai.rnn_train import *\n",
    "from fastai.nlp import *\n",
    "from fastai.lm_rnn import *\n",
    "\n",
    "from sklearn.externals import joblib\n",
    "\n",
    "import praw\n",
    "import re\n",
    "import random\n",
    "import bs4, markdown"
   ]
  },
  {
   "cell_type": "markdown",
   "metadata": {},
   "source": [
    "## Settings"
   ]
  },
  {
   "cell_type": "code",
   "execution_count": 3,
   "metadata": {
    "collapsed": true
   },
   "outputs": [],
   "source": [
    "# You definitely need to change this variable\n",
    "target_subreddit = \"INTP\" #Subreddit you're targetting (without the /r/ portion)\n",
    "#WARNING: if you pick a really popular subreddit, it'll take forever to download all of the posts!!!\n",
    "\n",
    "# You may need to change these variables\n",
    "test_portion = 0.1 #What fraction of the user's posts and submissions to use as the test set?\n",
    "credential_file = \"credentials.key\"\n",
    "bs = 16\n",
    "bptt = 70\n",
    "em_sz = 200  # size of each embedding vector\n",
    "nh = 500     # number of hidden activations per layer\n",
    "nl = 3       # number of layers"
   ]
  },
  {
   "cell_type": "markdown",
   "metadata": {},
   "source": [
    "## Reddit Credentials\n",
    "\n",
    "Make sure you create a [Reddit App](https://www.reddit.com/prefs/apps) named **fastai_reddit** and put the credentials in a file named \"credentials.key\" (or whatever name you picked in the cell above.)\n",
    "\n",
    "Format your \"credentials.key\" file the following way:\n",
    "\n",
    "1st line: PERSONAL USE SCRIPT (14 chars)  \n",
    "2nd line: SECRET (27 chars)  \n",
    "3rd line: REDDIT USERNAME  \n",
    "4th line: REDDIT PASSWORD  \n"
   ]
  },
  {
   "cell_type": "code",
   "execution_count": 4,
   "metadata": {
    "collapsed": true
   },
   "outputs": [],
   "source": [
    "try:\n",
    "    with open(credential_file, 'r') as f:\n",
    "        creds = f.read().split('\\n')\n",
    "    personal = creds[0]\n",
    "    secret = creds[1]\n",
    "    username = creds[2]\n",
    "    password = creds[3]\n",
    "except IOError as e:\n",
    "    print(\"You didn't create a credential file! Please see sample_credentials.key\")\n",
    "    print(\"Then go to http://www.storybench.org/how-to-scrape-reddit-with-python/\")\n",
    "    print(\"And register a new app named fastai_reddit in your reddit account.\")\n",
    "    print(\"And insert the values into sample_credentials.key and save it as {}.\".format(credential_file))\n",
    "    raise(e)"
   ]
  },
  {
   "cell_type": "code",
   "execution_count": 5,
   "metadata": {
    "collapsed": true
   },
   "outputs": [],
   "source": [
    "reddit = praw.Reddit(client_id=personal, client_secret=secret, user_agent='fastai_reddit', username=username, \\\n",
    "                     password=password)\n",
    "subreddit = reddit.subreddit(target_subreddit)"
   ]
  },
  {
   "cell_type": "code",
   "execution_count": 6,
   "metadata": {
    "collapsed": true
   },
   "outputs": [],
   "source": [
    "def noquotes(text):\n",
    "    \"\"\"\n",
    "This function first stated out as a way to remove markdown quotes from raw reddit markdown text but now it's more of a\n",
    "general purpose text parser, but the name hasn't changed.\n",
    "    \"\"\"\n",
    "    #https://stackoverflow.com/questions/761824/python-how-to-convert-markdown-formatted-text-to-text\n",
    "    t1 = re.sub(\">.+?(\\n|$)\",\"\",text).replace(\"\\\\n\",\"\").replace(\"\\\\\",\"\")\n",
    "    html = markdown.markdown(t1)\n",
    "    t2 = ''.join(bs4.BeautifulSoup(html, 'lxml').findAll(text=True))\n",
    "    \n",
    "    return t2"
   ]
  },
  {
   "cell_type": "code",
   "execution_count": 7,
   "metadata": {},
   "outputs": [
    {
     "name": "stdout",
     "output_type": "stream",
     "text": [
      "Just ask an INTP\n"
     ]
    }
   ],
   "source": [
    "# Test that our Reddit connection works\n",
    "test = list(subreddit.top(limit=10))[0]\n",
    "print(test.title)"
   ]
  },
  {
   "cell_type": "code",
   "execution_count": 8,
   "metadata": {
    "collapsed": true
   },
   "outputs": [],
   "source": [
    "posts = list(subreddit.top(limit=None))"
   ]
  },
  {
   "cell_type": "code",
   "execution_count": 9,
   "metadata": {},
   "outputs": [
    {
     "name": "stdout",
     "output_type": "stream",
     "text": [
      "\n",
      "I choose to the think the asshole that painted the 6/9 (or 2/3) on the ground failed to put a line under the number to clarify what it was supposed to be.\n"
     ]
    }
   ],
   "source": [
    "test = posts[0]\n",
    "test_selftext = test.selftext\n",
    "test_c = test.comments.list()[0]\n",
    "print(noquotes(test_selftext))\n",
    "print(test_c.body)"
   ]
  },
  {
   "cell_type": "code",
   "execution_count": 15,
   "metadata": {
    "collapsed": true
   },
   "outputs": [],
   "source": [
    "def get_comment_text(comment):\n",
    "    comments = []\n",
    "    if isinstance(comment, praw.models.MoreComments):\n",
    "        newcomments = comment.comments()\n",
    "        for n in newcomments:\n",
    "            comments += get_comment_text(n)\n",
    "    else:\n",
    "        comments.append(noquotes(comment.body))\n",
    "    return comments\n",
    "            "
   ]
  },
  {
   "cell_type": "code",
   "execution_count": 16,
   "metadata": {
    "collapsed": true
   },
   "outputs": [],
   "source": [
    "#WARNING: this step will take forever if you picked a really popular or active subreddit.\n",
    "alltext = []\n",
    "for p in posts:\n",
    "    tmp = noquotes(p.selftext)\n",
    "    if len(tmp) > 0:\n",
    "        alltext.append(tmp)\n",
    "    for c in p.comments.list():\n",
    "        alltext += get_comment_text(c)"
   ]
  },
  {
   "cell_type": "code",
   "execution_count": 18,
   "metadata": {},
   "outputs": [
    {
     "name": "stdout",
     "output_type": "stream",
     "text": [
      "56428\n"
     ]
    }
   ],
   "source": [
    "print(len(alltext))"
   ]
  },
  {
   "cell_type": "code",
   "execution_count": 19,
   "metadata": {},
   "outputs": [
    {
     "data": {
      "text/plain": [
       "['intp.pkl']"
      ]
     },
     "execution_count": 19,
     "metadata": {},
     "output_type": "execute_result"
    }
   ],
   "source": [
    "joblib.dump(alltext, target_subreddit + \".pkl\")"
   ]
  },
  {
   "cell_type": "code",
   "execution_count": 4,
   "metadata": {
    "collapsed": true
   },
   "outputs": [],
   "source": [
    "alltext = joblib.load(target_subreddit + \".pkl\")"
   ]
  },
  {
   "cell_type": "markdown",
   "metadata": {},
   "source": [
    "Now randomly join together posts and set aside a fraction of the posts equal to ```test_portion``` to designate as the test set."
   ]
  },
  {
   "cell_type": "code",
   "execution_count": 5,
   "metadata": {
    "collapsed": true
   },
   "outputs": [],
   "source": [
    "random.shuffle(alltext)\n",
    "split = round(test_portion*len(alltext))\n",
    "train = pd.DataFrame()\n",
    "test = pd.DataFrame()\n",
    "test['text'] = alltext[0:split]\n",
    "train['text'] = alltext[split:]"
   ]
  },
  {
   "cell_type": "code",
   "execution_count": 6,
   "metadata": {},
   "outputs": [
    {
     "data": {
      "text/html": [
       "<div>\n",
       "<style scoped>\n",
       "    .dataframe tbody tr th:only-of-type {\n",
       "        vertical-align: middle;\n",
       "    }\n",
       "\n",
       "    .dataframe tbody tr th {\n",
       "        vertical-align: top;\n",
       "    }\n",
       "\n",
       "    .dataframe thead th {\n",
       "        text-align: right;\n",
       "    }\n",
       "</style>\n",
       "<table border=\"1\" class=\"dataframe\">\n",
       "  <thead>\n",
       "    <tr style=\"text-align: right;\">\n",
       "      <th></th>\n",
       "      <th>text</th>\n",
       "    </tr>\n",
       "  </thead>\n",
       "  <tbody>\n",
       "    <tr>\n",
       "      <th>0</th>\n",
       "      <td>Stuff like data entry is not my normal job tas...</td>\n",
       "    </tr>\n",
       "    <tr>\n",
       "      <th>1</th>\n",
       "      <td>This.</td>\n",
       "    </tr>\n",
       "    <tr>\n",
       "      <th>2</th>\n",
       "      <td>I've been eyeing tiny homes for a bit. The ent...</td>\n",
       "    </tr>\n",
       "    <tr>\n",
       "      <th>3</th>\n",
       "      <td>Well I wasn’t really allowed to express emotio...</td>\n",
       "    </tr>\n",
       "    <tr>\n",
       "      <th>4</th>\n",
       "      <td>I feel like this is true to me.  But I also fe...</td>\n",
       "    </tr>\n",
       "  </tbody>\n",
       "</table>\n",
       "</div>"
      ],
      "text/plain": [
       "                                                text\n",
       "0  Stuff like data entry is not my normal job tas...\n",
       "1                                              This.\n",
       "2  I've been eyeing tiny homes for a bit. The ent...\n",
       "3  Well I wasn’t really allowed to express emotio...\n",
       "4  I feel like this is true to me.  But I also fe..."
      ]
     },
     "execution_count": 6,
     "metadata": {},
     "output_type": "execute_result"
    }
   ],
   "source": [
    "train.head()"
   ]
  },
  {
   "cell_type": "code",
   "execution_count": 7,
   "metadata": {},
   "outputs": [
    {
     "data": {
      "text/html": [
       "<div>\n",
       "<style scoped>\n",
       "    .dataframe tbody tr th:only-of-type {\n",
       "        vertical-align: middle;\n",
       "    }\n",
       "\n",
       "    .dataframe tbody tr th {\n",
       "        vertical-align: top;\n",
       "    }\n",
       "\n",
       "    .dataframe thead th {\n",
       "        text-align: right;\n",
       "    }\n",
       "</style>\n",
       "<table border=\"1\" class=\"dataframe\">\n",
       "  <thead>\n",
       "    <tr style=\"text-align: right;\">\n",
       "      <th></th>\n",
       "      <th>text</th>\n",
       "    </tr>\n",
       "  </thead>\n",
       "  <tbody>\n",
       "    <tr>\n",
       "      <th>0</th>\n",
       "      <td>Aw, thank you &lt;3</td>\n",
       "    </tr>\n",
       "    <tr>\n",
       "      <th>1</th>\n",
       "      <td>Couldn't agree more. Yesterday I went to sleep...</td>\n",
       "    </tr>\n",
       "    <tr>\n",
       "      <th>2</th>\n",
       "      <td>a lot of benefits, if you know someone is lyin...</td>\n",
       "    </tr>\n",
       "    <tr>\n",
       "      <th>3</th>\n",
       "      <td>I am always uncomfortable, even when I am comp...</td>\n",
       "    </tr>\n",
       "    <tr>\n",
       "      <th>4</th>\n",
       "      <td>This is how literally everyone acts</td>\n",
       "    </tr>\n",
       "  </tbody>\n",
       "</table>\n",
       "</div>"
      ],
      "text/plain": [
       "                                                text\n",
       "0                                   Aw, thank you <3\n",
       "1  Couldn't agree more. Yesterday I went to sleep...\n",
       "2  a lot of benefits, if you know someone is lyin...\n",
       "3  I am always uncomfortable, even when I am comp...\n",
       "4                This is how literally everyone acts"
      ]
     },
     "execution_count": 7,
     "metadata": {},
     "output_type": "execute_result"
    }
   ],
   "source": [
    "test.head()"
   ]
  },
  {
   "cell_type": "code",
   "execution_count": 23,
   "metadata": {},
   "outputs": [
    {
     "data": {
      "text/plain": [
       "(50785, 5643)"
      ]
     },
     "execution_count": 23,
     "metadata": {},
     "output_type": "execute_result"
    }
   ],
   "source": [
    "len(train), len(test)"
   ]
  },
  {
   "cell_type": "code",
   "execution_count": 8,
   "metadata": {
    "collapsed": true
   },
   "outputs": [],
   "source": [
    "TEXTS = data.Field(lower=True, tokenize=\"spacy\")"
   ]
  },
  {
   "cell_type": "code",
   "execution_count": 9,
   "metadata": {
    "collapsed": true
   },
   "outputs": [],
   "source": [
    "#def from_dataframes(cls, path, field, col, train_df, val_df, test_df=None, bs=64, bptt=70, **kwargs):\n",
    "#See: https://github.com/fastai/fastai/blob/master/fastai/nlp.py\n",
    "md = LanguageModelData.from_dataframes(path=\"./\", field=TEXTS, col='text',train_df=train,val_df=test,\\\n",
    "                                       test_df=test,bs=bs, bptt=bptt)"
   ]
  },
  {
   "cell_type": "code",
   "execution_count": 10,
   "metadata": {
    "collapsed": true
   },
   "outputs": [],
   "source": [
    "opt_fn = partial(optim.Adam, betas=(0.7, 0.99))"
   ]
  },
  {
   "cell_type": "markdown",
   "metadata": {},
   "source": [
    "You may need to change the dropouts below if you're overfitting"
   ]
  },
  {
   "cell_type": "code",
   "execution_count": 11,
   "metadata": {
    "collapsed": true
   },
   "outputs": [],
   "source": [
    "learner = md.get_model(opt_fn, em_sz, nh, nl,\n",
    "               dropout=0.05, dropouth=0.1, dropouti=0.05, dropoute=0.02, wdrop=0.2)\n",
    "learner.reg_fn = partial(seq2seq_reg, alpha=2, beta=1)\n",
    "learner.clip=0.3"
   ]
  },
  {
   "cell_type": "code",
   "execution_count": 12,
   "metadata": {},
   "outputs": [
    {
     "data": {
      "application/vnd.jupyter.widget-view+json": {
       "model_id": "9bb50544cda34995bd67d73fdf5b447c",
       "version_major": 2,
       "version_minor": 0
      },
      "text/plain": [
       "HBox(children=(IntProgress(value=0, description='Epoch', max=1), HTML(value='')))"
      ]
     },
     "metadata": {},
     "output_type": "display_data"
    },
    {
     "name": "stdout",
     "output_type": "stream",
     "text": [
      " 78%|████████████████████████████████████████████████████▍              | 1738/2219 [04:41<01:17,  6.18it/s, loss=21.2]"
     ]
    }
   ],
   "source": [
    "learner.lr_find()"
   ]
  },
  {
   "cell_type": "code",
   "execution_count": 13,
   "metadata": {},
   "outputs": [
    {
     "data": {
      "image/png": "[encoded data removed]",
      "text/plain": [
       "<Figure size 432x288 with 1 Axes>"
      ]
     },
     "metadata": {},
     "output_type": "display_data"
    }
   ],
   "source": [
    "learner.sched.plot_lr()"
   ]
  },
  {
   "cell_type": "code",
   "execution_count": 14,
   "metadata": {},
   "outputs": [
    {
     "data": {
      "image/png": "[encoded data removed]",
      "text/plain": [
       "<Figure size 432x288 with 1 Axes>"
      ]
     },
     "metadata": {},
     "output_type": "display_data"
    }
   ],
   "source": [
    "learner.sched.plot()"
   ]
  },
  {
   "cell_type": "markdown",
   "metadata": {},
   "source": [
    "Set the learning rate to the largest power of 10 that is less than the rate that gives your lowest \"validation loss\"."
   ]
  },
  {
   "cell_type": "code",
   "execution_count": 15,
   "metadata": {
    "collapsed": true
   },
   "outputs": [],
   "source": [
    "lr = 3e-3"
   ]
  },
  {
   "cell_type": "code",
   "execution_count": 16,
   "metadata": {},
   "outputs": [
    {
     "data": {
      "application/vnd.jupyter.widget-view+json": {
       "model_id": "ec923dd01f4e4cddbb874e096b859355",
       "version_major": 2,
       "version_minor": 0
      },
      "text/plain": [
       "HBox(children=(IntProgress(value=0, description='Epoch', max=15), HTML(value='')))"
      ]
     },
     "metadata": {},
     "output_type": "display_data"
    },
    {
     "name": "stdout",
     "output_type": "stream",
     "text": [
      "epoch      trn_loss   val_loss                                                                                         \n",
      "    0      5.124113   5.063284  \n",
      "    1      4.832801   4.752321                                                                                         \n",
      "    2      4.704865   4.673061                                                                                         \n",
      "    3      4.692471   4.623971                                                                                         \n",
      "    4      4.592901   4.541851                                                                                         \n",
      "    5      4.498753   4.489085                                                                                         \n",
      "    6      4.458289   4.476509                                                                                         \n",
      "    7      4.587827   4.512492                                                                                         \n",
      "    8      4.51395    4.486755                                                                                         \n",
      "    9      4.487233   4.454542                                                                                         \n",
      "    10     4.425297   4.427102                                                                                         \n",
      "    11     4.378305   4.403477                                                                                         \n",
      "    12     4.379899   4.385977                                                                                         \n",
      "    13     4.310045   4.37882                                                                                          \n",
      "    14     4.339485   4.376639                                                                                         \n"
     ]
    },
    {
     "data": {
      "text/plain": [
       "[array([4.37664])]"
      ]
     },
     "execution_count": 16,
     "metadata": {},
     "output_type": "execute_result"
    }
   ],
   "source": [
    "learner.fit(lr, 4, wds=1e-6, cycle_len=1, cycle_mult=2)\n",
    "#Note: if you get an error, try reducing the batch size!\n",
    "#Feel free to terminate training prematurely if val_loss isn't improving"
   ]
  },
  {
   "cell_type": "code",
   "execution_count": 17,
   "metadata": {
    "collapsed": true
   },
   "outputs": [],
   "source": [
    "learner.save_encoder('subreddit_' + target_subreddit + \"_enc\")\n"
   ]
  },
  {
   "cell_type": "code",
   "execution_count": null,
   "metadata": {
    "collapsed": true
   },
   "outputs": [],
   "source": [
    "learner.load_encoder('subreddit_' + target_subreddit + \"_enc\")"
   ]
  },
  {
   "cell_type": "code",
   "execution_count": 18,
   "metadata": {},
   "outputs": [
    {
     "data": {
      "application/vnd.jupyter.widget-view+json": {
       "model_id": "ba57b9c3ba6549699b99bd36ade1b5a7",
       "version_major": 2,
       "version_minor": 0
      },
      "text/plain": [
       "HBox(children=(IntProgress(value=0, description='Epoch', max=10), HTML(value='')))"
      ]
     },
     "metadata": {},
     "output_type": "display_data"
    },
    {
     "name": "stdout",
     "output_type": "stream",
     "text": [
      "epoch      trn_loss   val_loss                                                                                         \n",
      "    0      4.471291   4.449342  \n",
      "    1      4.442018   4.431966                                                                                         \n",
      "    2      4.40613    4.415631                                                                                         \n",
      "    3      4.399918   4.397465                                                                                         \n",
      "    4      4.352152   4.377297                                                                                         \n",
      "    5      4.308897   4.360894                                                                                         \n",
      "    6      4.257245   4.35005                                                                                          \n",
      "    7      4.294059   4.340382                                                                                         \n",
      "    8      4.194814   4.338155                                                                                         \n",
      "    9      4.209008   4.337674                                                                                         \n"
     ]
    },
    {
     "data": {
      "text/plain": [
       "[array([4.33767])]"
      ]
     },
     "execution_count": 18,
     "metadata": {},
     "output_type": "execute_result"
    }
   ],
   "source": [
    "learner.fit(lr, 1, wds=1e-6, cycle_len=10)\n",
    "#Feel free to terminate training prematurely if val_loss isn't improving"
   ]
  },
  {
   "cell_type": "markdown",
   "metadata": {},
   "source": [
    "## Set your \"seed string\" below\n",
    "(Or leave it as the default if you want it to pick a random post from your test set.)"
   ]
  },
  {
   "cell_type": "code",
   "execution_count": 41,
   "metadata": {},
   "outputs": [
    {
     "name": "stdout",
     "output_type": "stream",
     "text": [
      "Basically how I've felt my whole life\n"
     ]
    }
   ],
   "source": [
    "ss = random.choice(test['text'])\n",
    "print(ss)\n",
    "#ss=\"\"\"The right way \"\"\""
   ]
  },
  {
   "cell_type": "code",
   "execution_count": 39,
   "metadata": {
    "collapsed": true
   },
   "outputs": [],
   "source": [
    "def proc_str(s): return TEXTS.preprocess(TEXTS.tokenize(s))\n",
    "def num_str(s): return TEXTS.numericalize([proc_str(s)])\n",
    "\n",
    "m=learner.model\n",
    "\n",
    "def sample_model(m, s, l=50):\n",
    "    print(s)\n",
    "    print(\"\\nBegin imitation:\\n\")\n",
    "    t = num_str(s)\n",
    "    m[0].bs=1\n",
    "    m.eval()\n",
    "    m.reset()\n",
    "    res,*_ = m(t)\n",
    "    print('...', end='')\n",
    "\n",
    "    for i in range(l):\n",
    "        n=res[-1].topk(2)[1]\n",
    "        n = n[1] if n.data[0]==0 else n[0]\n",
    "        word = TEXTS.vocab.itos[n.data[0]]\n",
    "        print(word, end=' ')\n",
    "        if (word=='<eos>') or (word=='< eos >'): break\n",
    "        res,*_ = m(n[0].unsqueeze(0))\n",
    "\n",
    "    m[0].bs=bs"
   ]
  },
  {
   "cell_type": "code",
   "execution_count": 42,
   "metadata": {},
   "outputs": [
    {
     "name": "stdout",
     "output_type": "stream",
     "text": [
      "Basically how I've felt my whole life\n",
      "\n",
      "Begin imitation:\n",
      "\n",
      ".... i 'm not sure if i 'm an intp or an intp , but i 'm not sure if i 'm an intp or an intp . i 'm not sure if i 'm an intp or an intp , but i 'm not sure if i 'm an "
     ]
    }
   ],
   "source": [
    "sample_model(m,ss)"
   ]
  },
  {
   "cell_type": "code",
   "execution_count": 22,
   "metadata": {},
   "outputs": [
    {
     "name": "stdout",
     "output_type": "stream",
     "text": [
      "...are n't the same . < eos > i 'm not sure if i 'm an intp or an intp . i 'm not sure if i 'm an intp or an intp . i 'm not sure if i 'm an intp or an intp . < eos > "
     ]
    }
   ],
   "source": [
    "sample_model(m,\"<CAT> csni <SUMM> algorithms that\")"
   ]
  },
  {
   "cell_type": "code",
   "execution_count": 23,
   "metadata": {},
   "outputs": [
    {
     "name": "stdout",
     "output_type": "stream",
     "text": [
      "...are n't the same . < eos > i 'm not sure if i 'm an intp or an intp . i 'm not sure if i 'm an intp or an intp . i 'm not sure if i 'm an intp or an intp . < eos > "
     ]
    }
   ],
   "source": [
    "sample_model(m,\"<CAT> cscv <SUMM> algorithms that\")"
   ]
  },
  {
   "cell_type": "code",
   "execution_count": 24,
   "metadata": {},
   "outputs": [
    {
     "name": "stdout",
     "output_type": "stream",
     "text": [
      "...the other hand , i 'm not sure if it 's a good thing or a thing . < eos > i 'm not sure if i 'm an intp or an intp . i 'm not sure if i 'm an intp or an intp . i 'm not "
     ]
    }
   ],
   "source": [
    "sample_model(m,\"<CAT> cscv <SUMM> algorithms. <TITLE> on \")"
   ]
  },
  {
   "cell_type": "code",
   "execution_count": 25,
   "metadata": {},
   "outputs": [
    {
     "name": "stdout",
     "output_type": "stream",
     "text": [
      "...the other hand , i 'm not sure if it 's a good thing or a thing . < eos > i 'm not sure if i 'm an intp or an intp . i 'm not sure if i 'm an intp or an intp . i 'm not "
     ]
    }
   ],
   "source": [
    "sample_model(m,\"<CAT> csni <SUMM> algorithms. <TITLE> on \")"
   ]
  },
  {
   "cell_type": "code",
   "execution_count": 26,
   "metadata": {},
   "outputs": [
    {
     "name": "stdout",
     "output_type": "stream",
     "text": [
      "...are more likely to be the ones who are n't interested in the mbti . \n",
      " i 'm not sure if this is an intp thing or not . i 'm not sure if i 'm an intp or an intp . i 'm not sure if i 'm an "
     ]
    }
   ],
   "source": [
    "sample_model(m,\"INTJs\")"
   ]
  },
  {
   "cell_type": "code",
   "execution_count": 27,
   "metadata": {},
   "outputs": [
    {
     "name": "stdout",
     "output_type": "stream",
     "text": [
      "...are more likely to be the ones who are n't interested in the mbti . \n",
      " i 'm not sure if this is an intp thing or not . < eos > i 'm not sure if i 'm an intp or an intp . i 'm not sure if "
     ]
    }
   ],
   "source": [
    "sample_model(m,\"ENTJs\")"
   ]
  },
  {
   "cell_type": "code",
   "execution_count": 43,
   "metadata": {},
   "outputs": [
    {
     "name": "stdout",
     "output_type": "stream",
     "text": [
      "Apples and oranges\n",
      "\n",
      "Begin imitation:\n",
      "\n",
      ".... \n",
      " i 'm not sure if i 'm a woman , but i 'm not sure if i 'm an intp or not . i 'm not sure if i 'm an intp or an intp , but i 'm not sure if i 'm an intp or an "
     ]
    }
   ],
   "source": [
    "sample_model(m,\"Apples and oranges\")"
   ]
  },
  {
   "cell_type": "code",
   "execution_count": null,
   "metadata": {
    "collapsed": true
   },
   "outputs": [],
   "source": []
  }
 ],
 "metadata": {
  "kernelspec": {
   "display_name": "fastAI custom",
   "language": "python",
   "name": "fastai"
  },
  "language_info": {
   "codemirror_mode": {
    "name": "ipython",
    "version": 3
   },
   "file_extension": ".py",
   "mimetype": "text/x-python",
   "name": "python",
   "nbconvert_exporter": "python",
   "pygments_lexer": "ipython3",
   "version": "3.6.5"
  }
 },
 "nbformat": 4,
 "nbformat_minor": 2
}
